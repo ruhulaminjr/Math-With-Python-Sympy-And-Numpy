{
 "cells": [
  {
   "cell_type": "code",
   "execution_count": 1,
   "id": "confidential-broadcast",
   "metadata": {},
   "outputs": [
    {
     "name": "stdout",
     "output_type": "stream",
     "text": [
      "1 square 1\n",
      "2 square 4\n",
      "3 square 9\n",
      "4 square 16\n"
     ]
    }
   ],
   "source": [
    "for i in range(1,5):\n",
    "    num = i**2\n",
    "    print('%g square %g'%(i,num))"
   ]
  },
  {
   "cell_type": "code",
   "execution_count": 2,
   "id": "grand-moldova",
   "metadata": {},
   "outputs": [
    {
     "name": "stdout",
     "output_type": "stream",
     "text": [
      "2 to the power of 0 of 1\n",
      "2 to the power of 1 of 2\n",
      "2 to the power of 2 of 4\n",
      "2 to the power of 3 of 8\n",
      "2 to the power of 4 of 16\n",
      "2 to the power of 5 of 32\n",
      "2 to the power of 6 of 64\n",
      "2 to the power of 7 of 128\n",
      "2 to the power of 8 of 256\n",
      "2 to the power of 9 of 512\n"
     ]
    }
   ],
   "source": [
    "base = 2\n",
    "for x in range(0,10):\n",
    "    print('%g to the power of %g of %g'%(base,x,base**x))"
   ]
  }
 ],
 "metadata": {
  "kernelspec": {
   "display_name": "Python 3",
   "language": "python",
   "name": "python3"
  },
  "language_info": {
   "codemirror_mode": {
    "name": "ipython",
    "version": 3
   },
   "file_extension": ".py",
   "mimetype": "text/x-python",
   "name": "python",
   "nbconvert_exporter": "python",
   "pygments_lexer": "ipython3",
   "version": "3.9.2"
  }
 },
 "nbformat": 4,
 "nbformat_minor": 5
}

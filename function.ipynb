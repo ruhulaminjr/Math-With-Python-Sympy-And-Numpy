{
 "cells": [
  {
   "cell_type": "code",
   "execution_count": 2,
   "id": "painful-brunei",
   "metadata": {},
   "outputs": [],
   "source": [
    "from IPython.display import display,Math"
   ]
  },
  {
   "cell_type": "code",
   "execution_count": 3,
   "id": "grateful-level",
   "metadata": {},
   "outputs": [],
   "source": [
    "def power(x,y):\n",
    "    display(Math('%g^{%g}=%g'%(x,y,x**y)))\n",
    "def division(x,y):\n",
    "    display(Math('\\\\frac{%g}{%g} = %g'%(x,y,x/y)))"
   ]
  },
  {
   "cell_type": "code",
   "execution_count": 4,
   "id": "skilled-briefs",
   "metadata": {},
   "outputs": [],
   "source": [
    "\n",
    "def compute():\n",
    "    x = float(input('INPUT X: '))\n",
    "    y = float(input('INPUT Y: '))\n",
    "    display(Math('\\\\text{press \"1\" to compute } %g^{%g} \\\\text{ or \"2\" to } \\\\frac{%g}{%g}'%(x,y,x,y)))\n",
    "    z = int(input())\n",
    "    if(z == 1):\n",
    "        power(x,y)\n",
    "    elif(z == 2):\n",
    "        division(x,y)\n",
    "        \n",
    "    else:\n",
    "        print('Invalid Selection')\n",
    "    \n"
   ]
  },
  {
   "cell_type": "code",
   "execution_count": 5,
   "id": "medium-panic",
   "metadata": {},
   "outputs": [
    {
     "name": "stdout",
     "output_type": "stream",
     "text": [
      "INPUT X: 5\n",
      "INPUT Y: 2\n"
     ]
    },
    {
     "data": {
      "text/latex": [
       "$\\displaystyle \\text{press \"1\" to compute } 5^{2} \\text{ or \"2\" to } \\frac{5}{2}$"
      ],
      "text/plain": [
       "<IPython.core.display.Math object>"
      ]
     },
     "metadata": {},
     "output_type": "display_data"
    },
    {
     "name": "stdout",
     "output_type": "stream",
     "text": [
      "1\n"
     ]
    },
    {
     "data": {
      "text/latex": [
       "$\\displaystyle 5^{2}=25$"
      ],
      "text/plain": [
       "<IPython.core.display.Math object>"
      ]
     },
     "metadata": {},
     "output_type": "display_data"
    }
   ],
   "source": [
    "compute()"
   ]
  }
 ],
 "metadata": {
  "kernelspec": {
   "display_name": "Python 3",
   "language": "python",
   "name": "python3"
  },
  "language_info": {
   "codemirror_mode": {
    "name": "ipython",
    "version": 3
   },
   "file_extension": ".py",
   "mimetype": "text/x-python",
   "name": "python",
   "nbconvert_exporter": "python",
   "pygments_lexer": "ipython3",
   "version": "3.9.2"
  }
 },
 "nbformat": 4,
 "nbformat_minor": 5
}

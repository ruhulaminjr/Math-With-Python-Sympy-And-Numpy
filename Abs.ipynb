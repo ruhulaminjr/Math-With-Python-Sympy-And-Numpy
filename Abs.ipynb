{
 "cells": [
  {
   "cell_type": "code",
   "execution_count": 20,
   "id": "quiet-andrews",
   "metadata": {},
   "outputs": [
    {
     "name": "stdout",
     "output_type": "stream",
     "text": [
      "Absolute value of |-4| is =  4\n",
      "6 is not tested\n",
      "Absolute value of |-1| is =  1\n",
      "43 is not tested\n",
      "-18 is not tested\n",
      "Absolute value of |2| is =  2\n",
      "Absolute value of |0| is =  0\n"
     ]
    }
   ],
   "source": [
    "from IPython.display import display,Math\n",
    "values = [-4,6,-1,43,-18,2,0]\n",
    "for numi in values:\n",
    "    if(numi <-5 or numi >2):\n",
    "        print('%g is not tested'%numi)\n",
    "    else:\n",
    "        print('Absolute value of |%g| is =  %g'%(numi,abs(numi)))"
   ]
  }
 ],
 "metadata": {
  "kernelspec": {
   "display_name": "Python 3",
   "language": "python",
   "name": "python3"
  },
  "language_info": {
   "codemirror_mode": {
    "name": "ipython",
    "version": 3
   },
   "file_extension": ".py",
   "mimetype": "text/x-python",
   "name": "python",
   "nbconvert_exporter": "python",
   "pygments_lexer": "ipython3",
   "version": "3.9.2"
  }
 },
 "nbformat": 4,
 "nbformat_minor": 5
}

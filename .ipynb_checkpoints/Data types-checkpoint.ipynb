{
 "cells": [
  {
   "cell_type": "code",
   "execution_count": 10,
   "id": "spoken-resident",
   "metadata": {},
   "outputs": [
    {
     "data": {
      "text/plain": [
       "'4.7'"
      ]
     },
     "execution_count": 10,
     "metadata": {},
     "output_type": "execute_result"
    }
   ],
   "source": [
    "s1 = '4'\n",
    "s2 = '4.7'\n",
    "n1 = 4\n",
    "n2 = 4.7\n",
    "s1i = int(s1)\n",
    "s2i = int (float(s2))\n",
    "\n",
    "s1f = float(s1)\n",
    "s2f = float(s2)\n",
    "\n",
    "n1s = str(n1)\n",
    "n2s = str(n2)\n",
    "n2s"
   ]
  },
  {
   "cell_type": "code",
   "execution_count": 12,
   "id": "proud-tamil",
   "metadata": {},
   "outputs": [
    {
     "data": {
      "text/plain": [
       "[3, ['3', '4', '5'], 5.5, [4, 5, 6]]"
      ]
     },
     "execution_count": 12,
     "metadata": {},
     "output_type": "execute_result"
    }
   ],
   "source": [
    "listlist = [3,['3','4','5'],5.5,[4,5,6]]\n",
    "listlist"
   ]
  },
  {
   "cell_type": "code",
   "execution_count": 33,
   "id": "unlikely-cattle",
   "metadata": {},
   "outputs": [
    {
     "name": "stdout",
     "output_type": "stream",
     "text": [
      "List Element 0 and is 3 of type <class 'int'>\n",
      "List Element 1 and is ['3', '4', '5'] of type <class 'list'>\n",
      "List Element 2 and is 5.5 of type <class 'float'>\n",
      "List Element 3 and is [4, 5, 6] of type <class 'list'>\n"
     ]
    }
   ],
   "source": [
    "for i,item in enumerate(listlist):\n",
    "    #enumerate return array index and value\n",
    "    print(f'List Element {i} and is {item} of type {type(item)}')"
   ]
  },
  {
   "cell_type": "code",
   "execution_count": 27,
   "id": "stylish-swing",
   "metadata": {},
   "outputs": [
    {
     "name": "stdout",
     "output_type": "stream",
     "text": [
      "List Element 0 and is 3 of type <class 'int'>\n",
      "List Element 1 and is ['3', '4', '5'] of type <class 'list'>\n",
      "List Element 2 and is 5.5 of type <class 'float'>\n",
      "List Element 3 and is [4, 5, 6] of type <class 'list'>\n"
     ]
    }
   ],
   "source": [
    "for i in range(len(listlist)):\n",
    "    print('List Element %i and is %s of type %s'%(i,listlist[i],type(listlist[i])))"
   ]
  },
  {
   "cell_type": "code",
   "execution_count": 31,
   "id": "understanding-wayne",
   "metadata": {},
   "outputs": [
    {
     "name": "stdout",
     "output_type": "stream",
     "text": [
      "List Element 0 and is 3 of type int\n",
      "List Element 1 and is ['3', '4', '5'] of type list\n",
      "List Element 2 and is 5.5 of type float\n",
      "List Element 3 and is [4, 5, 6] of type list\n"
     ]
    }
   ],
   "source": [
    "def checktype(lists):\n",
    "    ans = ''\n",
    "    if(type(lists) == int):\n",
    "        ans = 'int'\n",
    "    elif (type(lists) == list):\n",
    "        ans = 'list'\n",
    "    elif (type(lists) == float):\n",
    "        ans = 'float'\n",
    "    return ans\n",
    "for i in range(len(listlist)):\n",
    "    ans = checktype(listlist[i])\n",
    "    print('List Element %i and is %s of type %s'%(i,listlist[i],ans))"
   ]
  },
  {
   "cell_type": "code",
   "execution_count": 43,
   "id": "endless-affect",
   "metadata": {},
   "outputs": [
    {
     "name": "stdout",
     "output_type": "stream",
     "text": [
      "List Element 0 and is 3 of type int\n",
      "List Element 1 and is ['3', '4', '5'] of type list\n",
      "List Element 2 and is 5.5 of type float\n",
      "List Element 3 and is [4, 5, 6] of type list\n"
     ]
    }
   ],
   "source": [
    "listlist = [3,['3','4','5'],5.5,[4,5,6]]\n",
    "for i in range(len(listlist)):\n",
    "    a = str(type(listlist[i]))[8:-2]\n",
    "    print('List Element %i and is %s of type %s'%(i,listlist[i],a))"
   ]
  }
 ],
 "metadata": {
  "kernelspec": {
   "display_name": "Python 3",
   "language": "python",
   "name": "python3"
  },
  "language_info": {
   "codemirror_mode": {
    "name": "ipython",
    "version": 3
   },
   "file_extension": ".py",
   "mimetype": "text/x-python",
   "name": "python",
   "nbconvert_exporter": "python",
   "pygments_lexer": "ipython3",
   "version": "3.9.2"
  }
 },
 "nbformat": 4,
 "nbformat_minor": 5
}

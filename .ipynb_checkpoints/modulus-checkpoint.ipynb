{
 "cells": [
  {
   "cell_type": "code",
   "execution_count": 13,
   "id": "hydraulic-raleigh",
   "metadata": {},
   "outputs": [
    {
     "name": "stdout",
     "output_type": "stream",
     "text": [
      "-5 is an odd  number\n",
      "-4 is an even number\n",
      "-3 is an odd  number\n",
      "-2 is an even number\n",
      "-1 is an odd  number\n",
      " 1 is an odd  number\n",
      " 3 is an odd  number\n",
      " 5 is an odd  number\n"
     ]
    }
   ],
   "source": [
    "for num in range(-5,6):\n",
    "    char = ' '\n",
    "    if num < 0:\n",
    "        char = ''\n",
    "    if(num %2 == 0):\n",
    "        if(num < 0):\n",
    "            print('%s%g is an even number'%(char,num))\n",
    "    else:\n",
    "        print('%s%g is an odd  number'%(char,num))\n",
    "        \n",
    "        "
   ]
  }
 ],
 "metadata": {
  "kernelspec": {
   "display_name": "Python 3",
   "language": "python",
   "name": "python3"
  },
  "language_info": {
   "codemirror_mode": {
    "name": "ipython",
    "version": 3
   },
   "file_extension": ".py",
   "mimetype": "text/x-python",
   "name": "python",
   "nbconvert_exporter": "python",
   "pygments_lexer": "ipython3",
   "version": "3.9.2"
  }
 },
 "nbformat": 4,
 "nbformat_minor": 5
}

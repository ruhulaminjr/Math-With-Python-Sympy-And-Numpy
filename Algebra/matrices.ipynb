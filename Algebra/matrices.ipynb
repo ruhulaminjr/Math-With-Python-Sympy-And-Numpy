{
 "cells": [
  {
   "cell_type": "code",
   "execution_count": 1,
   "id": "norman-river",
   "metadata": {},
   "outputs": [],
   "source": [
    "import sympy as sym\n",
    "import numpy as np\n",
    "from IPython.display import display,Math"
   ]
  },
  {
   "cell_type": "code",
   "execution_count": 2,
   "id": "shaped-differential",
   "metadata": {},
   "outputs": [
    {
     "data": {
      "text/latex": [
       "$\\displaystyle \\left[\\begin{matrix}11 & 22 & 33\\\\99 & 88 & 77\\\\66 & 55 & 44\\end{matrix}\\right]$"
      ],
      "text/plain": [
       "<IPython.core.display.Math object>"
      ]
     },
     "metadata": {},
     "output_type": "display_data"
    }
   ],
   "source": [
    "A = np.array([[11,22,33],[99,88,77],[66,55,44]])\n",
    "type(A)\n",
    "display(Math(sym.latex(sym.sympify(A))))\n"
   ]
  },
  {
   "cell_type": "code",
   "execution_count": 44,
   "id": "acquired-torture",
   "metadata": {},
   "outputs": [
    {
     "data": {
      "text/latex": [
       "$\\displaystyle \\left[\\begin{matrix}0.0 & 0.0 & 0.0 & 0.0 & 0.0 & 0.0\\\\0.0 & 0.0 & 0.0 & 0.0 & 0.0 & 0.0\\\\0.0 & 0.0 & 0.0 & 0.0 & 0.0 & 0.0\\end{matrix}\\right]$"
      ],
      "text/plain": [
       "<IPython.core.display.Math object>"
      ]
     },
     "metadata": {},
     "output_type": "display_data"
    }
   ],
   "source": [
    "B = np.zeros([3,6])\n",
    "# B[1,1] = 5\n",
    "# B[0,0] = 11\n",
    "# B[0,1] = 22\n",
    "# Bl = sym.latex(sym.sympify(B))\n",
    "display(Math(Bl))"
   ]
  },
  {
   "cell_type": "code",
   "execution_count": 45,
   "id": "minus-cocktail",
   "metadata": {},
   "outputs": [
    {
     "data": {
      "text/latex": [
       "$\\displaystyle \\left[\\begin{matrix}0.0 & 0.0 & 0.0 & 0.0 & 0.0 & 0.0\\\\1.0 & -1.0 & 1.0 & -1.0 & 1.0 & -1.0\\\\2.0 & -2.0 & 2.0 & -2.0 & 2.0 & -2.0\\end{matrix}\\right]$"
      ],
      "text/plain": [
       "<IPython.core.display.Math object>"
      ]
     },
     "metadata": {},
     "output_type": "display_data"
    }
   ],
   "source": [
    "numrange = range(0,3)\n",
    "for rowi in numrange:\n",
    "    for coli in range(0,6):\n",
    "        B[rowi,coli] = (-1) ** coli*rowi\n",
    "        \n",
    "display(Math(sym.latex(sym.sympify(B))))"
   ]
  },
  {
   "cell_type": "code",
   "execution_count": 11,
   "id": "covered-surgeon",
   "metadata": {},
   "outputs": [
    {
     "data": {
      "text/latex": [
       "$\\displaystyle \\left[\\begin{matrix}8.0 & 4.0 & 0.0\\\\10.0 & 5.0 & 0.0\\\\12.0 & 6.0 & 0.0\\end{matrix}\\right]$"
      ],
      "text/plain": [
       "<IPython.core.display.Math object>"
      ]
     },
     "metadata": {},
     "output_type": "display_data"
    }
   ],
   "source": [
    "from sympy.abc import x,y\n",
    "mat = np.zeros([3,3])\n",
    "numrange = range(0,3)\n",
    "fxy = (4+x) * (2-y)\n",
    "for row in numrange:\n",
    "    for col in numrange:\n",
    "        ans = fxy.subs({x:row,y:col})\n",
    "        mat[row,col] = ans\n",
    "ML = sym.latex(sym.sympify(mat))\n",
    "display(Math(ML))\n",
    "        "
   ]
  },
  {
   "cell_type": "code",
   "execution_count": null,
   "id": "enormous-expression",
   "metadata": {},
   "outputs": [],
   "source": []
  }
 ],
 "metadata": {
  "kernelspec": {
   "display_name": "Python 3",
   "language": "python",
   "name": "python3"
  },
  "language_info": {
   "codemirror_mode": {
    "name": "ipython",
    "version": 3
   },
   "file_extension": ".py",
   "mimetype": "text/x-python",
   "name": "python",
   "nbconvert_exporter": "python",
   "pygments_lexer": "ipython3",
   "version": "3.9.2"
  }
 },
 "nbformat": 4,
 "nbformat_minor": 5
}

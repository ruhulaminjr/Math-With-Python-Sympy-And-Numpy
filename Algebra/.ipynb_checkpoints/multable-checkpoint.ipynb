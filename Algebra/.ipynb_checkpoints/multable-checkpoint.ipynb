{
 "cells": [
  {
   "cell_type": "code",
   "execution_count": 1,
   "id": "after-centre",
   "metadata": {},
   "outputs": [],
   "source": [
    "import sympy as sym\n",
    "import numpy as np\n",
    "from IPython.display import display,Math"
   ]
  },
  {
   "cell_type": "code",
   "execution_count": 10,
   "id": "otherwise-lying",
   "metadata": {},
   "outputs": [
    {
     "data": {
      "text/latex": [
       "$\\displaystyle \\left[\\begin{matrix}1.0 & 2.0 & 3.0 & 4.0 & 5.0 & 6.0 & 7.0 & 8.0 & 9.0 & 10.0\\\\2.0 & 4.0 & 6.0 & 8.0 & 10.0 & 12.0 & 14.0 & 16.0 & 18.0 & 20.0\\\\3.0 & 6.0 & 9.0 & 12.0 & 15.0 & 18.0 & 21.0 & 24.0 & 27.0 & 30.0\\\\4.0 & 8.0 & 12.0 & 16.0 & 20.0 & 24.0 & 28.0 & 32.0 & 36.0 & 40.0\\\\5.0 & 10.0 & 15.0 & 20.0 & 25.0 & 30.0 & 35.0 & 40.0 & 45.0 & 50.0\\\\6.0 & 12.0 & 18.0 & 24.0 & 30.0 & 36.0 & 42.0 & 48.0 & 54.0 & 60.0\\\\7.0 & 14.0 & 21.0 & 28.0 & 35.0 & 42.0 & 49.0 & 56.0 & 63.0 & 70.0\\\\8.0 & 16.0 & 24.0 & 32.0 & 40.0 & 48.0 & 56.0 & 64.0 & 72.0 & 80.0\\\\9.0 & 18.0 & 27.0 & 36.0 & 45.0 & 54.0 & 63.0 & 72.0 & 81.0 & 90.0\\\\10.0 & 20.0 & 30.0 & 40.0 & 50.0 & 60.0 & 70.0 & 80.0 & 90.0 & 100.0\\end{matrix}\\right]$"
      ],
      "text/plain": [
       "<IPython.core.display.Math object>"
      ]
     },
     "metadata": {},
     "output_type": "display_data"
    }
   ],
   "source": [
    "Table = np.zeros([10,10])\n",
    "for i in range(1,11):\n",
    "    for j in range(1,11):\n",
    "        Table[i-1,j-1] = i *j\n",
    "display(Math(sym.latex(sym.sympify(Table))))"
   ]
  }
 ],
 "metadata": {
  "kernelspec": {
   "display_name": "Python 3",
   "language": "python",
   "name": "python3"
  },
  "language_info": {
   "codemirror_mode": {
    "name": "ipython",
    "version": 3
   },
   "file_extension": ".py",
   "mimetype": "text/x-python",
   "name": "python",
   "nbconvert_exporter": "python",
   "pygments_lexer": "ipython3",
   "version": "3.9.2"
  }
 },
 "nbformat": 4,
 "nbformat_minor": 5
}

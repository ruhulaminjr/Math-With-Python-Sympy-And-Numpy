{
 "cells": [
  {
   "cell_type": "code",
   "execution_count": 1,
   "id": "funny-accountability",
   "metadata": {},
   "outputs": [],
   "source": [
    "import sympy as sym\n",
    "from IPython.display import display,Math"
   ]
  },
  {
   "cell_type": "code",
   "execution_count": 4,
   "id": "wanted-wallet",
   "metadata": {},
   "outputs": [
    {
     "data": {
      "text/latex": [
       "$\\displaystyle a^{2} + 2 a b + b^{2}$"
      ],
      "text/plain": [
       "<IPython.core.display.Math object>"
      ]
     },
     "metadata": {},
     "output_type": "display_data"
    },
    {
     "data": {
      "text/latex": [
       "$\\displaystyle - 5 a b \\left(b - 7\\right)$"
      ],
      "text/plain": [
       "<IPython.core.display.Math object>"
      ]
     },
     "metadata": {},
     "output_type": "display_data"
    },
    {
     "data": {
      "text/latex": [
       "$\\displaystyle - 5 a b^{2} + 35 a b$"
      ],
      "text/plain": [
       "<IPython.core.display.Math object>"
      ]
     },
     "metadata": {},
     "output_type": "display_data"
    }
   ],
   "source": [
    "from sympy.abc import a,b\n",
    "# expr = a**2+2*a*b+b**2\n",
    "expr = (a+b)**2\n",
    "display(Math(sym.latex(sym.expand(expr))))\n",
    "expr1 = a * -5*b\n",
    "expr2 = b - 7\n",
    "display(Math(sym.latex(expr1*expr2)))\n",
    "display(Math(sym.latex(sym.expand(expr1*expr2))))\n",
    "# %whos"
   ]
  },
  {
   "cell_type": "code",
   "execution_count": 5,
   "id": "comparable-manhattan",
   "metadata": {},
   "outputs": [
    {
     "data": {
      "text/latex": [
       "$\\displaystyle f(x,y)=\\left(2 - y\\right) \\left(x + 4\\right)$"
      ],
      "text/plain": [
       "<IPython.core.display.Math object>"
      ]
     },
     "metadata": {},
     "output_type": "display_data"
    }
   ],
   "source": [
    "from sympy.abc import x,y\n",
    "expr = (4+x)*(2-y)\n",
    "display(Math('f(x,y)=%s'%sym.latex(expr)))\n"
   ]
  },
  {
   "cell_type": "code",
   "execution_count": 6,
   "id": "peripheral-athens",
   "metadata": {},
   "outputs": [
    {
     "data": {
      "text/latex": [
       "$\\displaystyle \\text{When x=0 and y=0, }f(x,y) = 8$"
      ],
      "text/plain": [
       "<IPython.core.display.Math object>"
      ]
     },
     "metadata": {},
     "output_type": "display_data"
    },
    {
     "data": {
      "text/latex": [
       "$\\displaystyle \\text{When x=0 and y=1, }f(x,y) = 4$"
      ],
      "text/plain": [
       "<IPython.core.display.Math object>"
      ]
     },
     "metadata": {},
     "output_type": "display_data"
    },
    {
     "data": {
      "text/latex": [
       "$\\displaystyle \\text{When x=0 and y=2, }f(x,y) = 0$"
      ],
      "text/plain": [
       "<IPython.core.display.Math object>"
      ]
     },
     "metadata": {},
     "output_type": "display_data"
    },
    {
     "data": {
      "text/latex": [
       "$\\displaystyle \\text{When x=1 and y=0, }f(x,y) = 10$"
      ],
      "text/plain": [
       "<IPython.core.display.Math object>"
      ]
     },
     "metadata": {},
     "output_type": "display_data"
    },
    {
     "data": {
      "text/latex": [
       "$\\displaystyle \\text{When x=1 and y=1, }f(x,y) = 5$"
      ],
      "text/plain": [
       "<IPython.core.display.Math object>"
      ]
     },
     "metadata": {},
     "output_type": "display_data"
    },
    {
     "data": {
      "text/latex": [
       "$\\displaystyle \\text{When x=1 and y=2, }f(x,y) = 0$"
      ],
      "text/plain": [
       "<IPython.core.display.Math object>"
      ]
     },
     "metadata": {},
     "output_type": "display_data"
    },
    {
     "data": {
      "text/latex": [
       "$\\displaystyle \\text{When x=2 and y=0, }f(x,y) = 12$"
      ],
      "text/plain": [
       "<IPython.core.display.Math object>"
      ]
     },
     "metadata": {},
     "output_type": "display_data"
    },
    {
     "data": {
      "text/latex": [
       "$\\displaystyle \\text{When x=2 and y=1, }f(x,y) = 6$"
      ],
      "text/plain": [
       "<IPython.core.display.Math object>"
      ]
     },
     "metadata": {},
     "output_type": "display_data"
    },
    {
     "data": {
      "text/latex": [
       "$\\displaystyle \\text{When x=2 and y=2, }f(x,y) = 0$"
      ],
      "text/plain": [
       "<IPython.core.display.Math object>"
      ]
     },
     "metadata": {},
     "output_type": "display_data"
    }
   ],
   "source": [
    "for i in range(0,3):\n",
    "    for j in range(0,3):\n",
    "        ans = expr.subs([(x,i),(y,j)])\n",
    "        display(Math('\\\\text{When x=%g and y=%g, }f(x,y) = %g'%(i,j,ans)))\n",
    "    "
   ]
  },
  {
   "cell_type": "code",
   "execution_count": 7,
   "id": "decreased-insight",
   "metadata": {},
   "outputs": [
    {
     "name": "stdout",
     "output_type": "stream",
     "text": [
      "When x=0 y=0, f(x,y)=8\n",
      "When x=0 y=1, f(x,y)=4\n",
      "When x=0 y=2, f(x,y)=0\n",
      "When x=1 y=0, f(x,y)=10\n",
      "When x=1 y=1, f(x,y)=5\n",
      "When x=1 y=2, f(x,y)=0\n",
      "When x=2 y=0, f(x,y)=12\n",
      "When x=2 y=1, f(x,y)=6\n",
      "When x=2 y=2, f(x,y)=0\n"
     ]
    }
   ],
   "source": [
    "fxy = (4+x) * (2-y)\n",
    "num = range(0,3)\n",
    "for xi in num:\n",
    "    for yi in num:\n",
    "        print('When x=%g y=%g, f(x,y)=%g'%(xi,yi,fxy.subs({x:xi,y:yi})))"
   ]
  }
 ],
 "metadata": {
  "kernelspec": {
   "display_name": "Python 3",
   "language": "python",
   "name": "python3"
  },
  "language_info": {
   "codemirror_mode": {
    "name": "ipython",
    "version": 3
   },
   "file_extension": ".py",
   "mimetype": "text/x-python",
   "name": "python",
   "nbconvert_exporter": "python",
   "pygments_lexer": "ipython3",
   "version": "3.9.2"
  }
 },
 "nbformat": 4,
 "nbformat_minor": 5
}

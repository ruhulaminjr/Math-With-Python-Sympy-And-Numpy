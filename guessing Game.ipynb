{
 "cells": [
  {
   "cell_type": "code",
   "execution_count": 9,
   "id": "bored-wrestling",
   "metadata": {},
   "outputs": [],
   "source": [
    "from numpy import random\n",
    "def guessTheNumber():\n",
    "    print('guess a number between 1 to 100')\n",
    "    user = int(input())\n",
    "    com = random.randint(1,100)\n",
    "    while user != com :\n",
    "        if(user < com):\n",
    "            print('guess higher!')\n",
    "        else:\n",
    "            print('guess Lower !')\n",
    "        user = int(input('guess again! '))\n",
    "    print('Got it the right number is %g and your guess is %g'%(com,user))\n",
    "    "
   ]
  },
  {
   "cell_type": "code",
   "execution_count": 10,
   "id": "western-metropolitan",
   "metadata": {},
   "outputs": [
    {
     "name": "stdout",
     "output_type": "stream",
     "text": [
      "guess a number between 1 to 100\n",
      "77\n",
      "guess Lower !\n",
      "guess again! 44\n",
      "guess higher!\n",
      "guess again! 55\n",
      "guess higher!\n",
      "guess again! 60\n",
      "guess Lower !\n",
      "guess again! 57\n",
      "Got it the right number is 57 and your guess is 57\n"
     ]
    }
   ],
   "source": [
    "guessTheNumber()"
   ]
  }
 ],
 "metadata": {
  "kernelspec": {
   "display_name": "Python 3",
   "language": "python",
   "name": "python3"
  },
  "language_info": {
   "codemirror_mode": {
    "name": "ipython",
    "version": 3
   },
   "file_extension": ".py",
   "mimetype": "text/x-python",
   "name": "python",
   "nbconvert_exporter": "python",
   "pygments_lexer": "ipython3",
   "version": "3.9.2"
  }
 },
 "nbformat": 4,
 "nbformat_minor": 5
}

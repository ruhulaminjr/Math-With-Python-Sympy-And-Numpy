{
 "cells": [
  {
   "cell_type": "code",
   "execution_count": 3,
   "id": "beautiful-scheme",
   "metadata": {},
   "outputs": [],
   "source": [
    "from IPython.display import display,Math\n",
    "x = 7\n",
    "y = -2\n",
    "z = 5"
   ]
  },
  {
   "cell_type": "code",
   "execution_count": 7,
   "id": "upset-bonus",
   "metadata": {},
   "outputs": [
    {
     "data": {
      "text/latex": [
       "$\\displaystyle 3x(4+y)=42$"
      ],
      "text/plain": [
       "<IPython.core.display.Math object>"
      ]
     },
     "metadata": {},
     "output_type": "display_data"
    }
   ],
   "source": [
    "display(Math('3x(4+y)=%g'%(3*x*(4+y))))"
   ]
  },
  {
   "cell_type": "code",
   "execution_count": 13,
   "id": "defined-straight",
   "metadata": {},
   "outputs": [
    {
     "data": {
      "text/latex": [
       "$\\displaystyle 3\\times7(4 + -2) = 42$"
      ],
      "text/plain": [
       "<IPython.core.display.Math object>"
      ]
     },
     "metadata": {},
     "output_type": "display_data"
    }
   ],
   "source": [
    "display(Math('3\\\\times7(4 + -2) = %g'%(3*7*(4+-2))))"
   ]
  },
  {
   "cell_type": "code",
   "execution_count": 15,
   "id": "balanced-defeat",
   "metadata": {},
   "outputs": [
    {
     "data": {
      "text/latex": [
       "$\\displaystyle -y-\\frac{x+3}{z} = 0$"
      ],
      "text/plain": [
       "<IPython.core.display.Math object>"
      ]
     },
     "metadata": {},
     "output_type": "display_data"
    }
   ],
   "source": [
    "display(Math('-y-\\\\frac{x+3}{z} = %g'%(-y-((x+3)/z))))"
   ]
  },
  {
   "cell_type": "code",
   "execution_count": 44,
   "id": "artistic-board",
   "metadata": {},
   "outputs": [
    {
     "data": {
      "text/latex": [
       "$\\displaystyle --2-\\frac{7 + 3}{5} = 0$"
      ],
      "text/plain": [
       "<IPython.core.display.Math object>"
      ]
     },
     "metadata": {},
     "output_type": "display_data"
    }
   ],
   "source": [
    "ans = -y-((x+3)/z)\n",
    "display(Math('-%g-\\\\frac{%g + 3}{%g} = %g'%(y,x,z,ans)))"
   ]
  }
 ],
 "metadata": {
  "kernelspec": {
   "display_name": "Python 3",
   "language": "python",
   "name": "python3"
  },
  "language_info": {
   "codemirror_mode": {
    "name": "ipython",
    "version": 3
   },
   "file_extension": ".py",
   "mimetype": "text/x-python",
   "name": "python",
   "nbconvert_exporter": "python",
   "pygments_lexer": "ipython3",
   "version": "3.9.2"
  }
 },
 "nbformat": 4,
 "nbformat_minor": 5
}
